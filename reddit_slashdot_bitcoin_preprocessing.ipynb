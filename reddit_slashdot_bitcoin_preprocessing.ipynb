{
 "cells": [
  {
   "cell_type": "code",
   "execution_count": 1,
   "metadata": {},
   "outputs": [],
   "source": [
    "import pandas as pd"
   ]
  },
  {
   "cell_type": "markdown",
   "metadata": {},
   "source": [
    "Bitcoin"
   ]
  },
  {
   "cell_type": "code",
   "execution_count": 2,
   "metadata": {},
   "outputs": [
    {
     "name": "stdout",
     "output_type": "stream",
     "text": [
      "Filtered data saved to bitcoin.csv\n"
     ]
    }
   ],
   "source": [
    "# File path to the csv file\n",
    "file_path = 'soc-sign-bitcoinalpha.csv'  \n",
    "\n",
    "# Read the csv file into a dataframe\n",
    "df = pd.read_csv(file_path)\n",
    "\n",
    "# Apply the transformation to the Sign column\n",
    "def transform_sign(value):\n",
    "    if 1 <= value <= 10:\n",
    "        return 1\n",
    "    elif -10 <= value <= -1:\n",
    "        return -1\n",
    "    return value  \n",
    "\n",
    "df['Sign'] = df['Sign'].apply(transform_sign)\n",
    "\n",
    "# Save to a new csv file\n",
    "output_file_path = 'bitcoin.csv'\n",
    "df.to_csv(output_file_path, index=False)\n",
    "\n",
    "print(f\"Filtered data saved to {output_file_path}\")"
   ]
  },
  {
   "cell_type": "markdown",
   "metadata": {},
   "source": [
    "Reddit"
   ]
  },
  {
   "cell_type": "code",
   "execution_count": null,
   "metadata": {},
   "outputs": [
    {
     "name": "stdout",
     "output_type": "stream",
     "text": [
      "Filtered data saved to reddit.csv\n"
     ]
    }
   ],
   "source": [
    "# Load the tsv file into a dataframe\n",
    "file_path = 'soc-redditHyperlinks-title.tsv' \n",
    "df = pd.read_csv(file_path, sep='\\t')\n",
    "\n",
    "# three columns to keep\n",
    "columns_to_keep = ['SOURCE_SUBREDDIT', 'TARGET_SUBREDDIT', 'LINK_SENTIMENT']  \n",
    "filtered_df = df[columns_to_keep]\n",
    "\n",
    "# Save the filtered data to a new tsv file\n",
    "output_file_path = 'reddit.tsv'\n",
    "filtered_df.to_csv(output_file_path, sep='\\t', index=False)\n",
    "\n",
    "print(f\"Filtered data saved to {output_file_path}\")"
   ]
  },
  {
   "cell_type": "markdown",
   "metadata": {},
   "source": [
    "Slashdot"
   ]
  },
  {
   "cell_type": "code",
   "execution_count": 4,
   "metadata": {},
   "outputs": [
    {
     "name": "stdout",
     "output_type": "stream",
     "text": [
      "Filtered data saved to slashdot.csv\n"
     ]
    }
   ],
   "source": [
    "# Path to txt file\n",
    "file_path = 'soc-sign-Slashdot090221.txt'  \n",
    "output_file_path = 'slashdot.csv'\n",
    "\n",
    "# Load the txt file into a dataframe\n",
    "# Adjust `delimiter` based on the file structure ('\\t' for tab-separated, ',' for comma-separated)\n",
    "df = pd.read_csv(file_path, delimiter='\\t')  # Replace '\\t' if the delimiter is different\n",
    "\n",
    "# Save the df to a csv file\n",
    "df.to_csv(output_file_path, index=False)\n",
    "\n",
    "print(f\"Filtered data saved to {output_file_path}\")"
   ]
  }
 ],
 "metadata": {
  "kernelspec": {
   "display_name": "base",
   "language": "python",
   "name": "python3"
  },
  "language_info": {
   "codemirror_mode": {
    "name": "ipython",
    "version": 3
   },
   "file_extension": ".py",
   "mimetype": "text/x-python",
   "name": "python",
   "nbconvert_exporter": "python",
   "pygments_lexer": "ipython3",
   "version": "3.12.7"
  }
 },
 "nbformat": 4,
 "nbformat_minor": 2
}
