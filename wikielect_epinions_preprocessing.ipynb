{
 "cells": [
  {
   "cell_type": "code",
   "id": "initial_id",
   "metadata": {
    "collapsed": true,
    "ExecuteTime": {
     "end_time": "2024-11-22T23:55:46.454032Z",
     "start_time": "2024-11-22T23:55:46.120863Z"
    }
   },
   "source": [
    "import numpy as np\n",
    "import pandas as pd\n",
    "import csv\n",
    "import re"
   ],
   "outputs": [],
   "execution_count": 2
  },
  {
   "metadata": {},
   "cell_type": "markdown",
   "source": "# epionions dataset",
   "id": "8a2dbf1f8107234e"
  },
  {
   "metadata": {},
   "cell_type": "code",
   "outputs": [],
   "execution_count": null,
   "source": [
    "# Load the data epinions dataset\n",
    "\n",
    "file_path = \"soc-sign-epinions.txt\"\n",
    "df_epinion = pd.read_csv(file_path, sep='\\s+', comment='#', names=[\"fromnode\", \"tonode\", \"sign\"])\n",
    "\n",
    "print(df_epinion.head())"
   ],
   "id": "80328d06c39255f9"
  },
  {
   "metadata": {
    "ExecuteTime": {
     "end_time": "2024-11-23T00:13:41.057742Z",
     "start_time": "2024-11-23T00:13:40.682630Z"
    }
   },
   "cell_type": "code",
   "source": [
    "# write the data to a csv file\n",
    "df_epinion.to_csv('epinions.csv', index=False)"
   ],
   "id": "25699f93f3dc627e",
   "outputs": [],
   "execution_count": 16
  },
  {
   "metadata": {},
   "cell_type": "markdown",
   "source": "# wikielect dataset",
   "id": "8a648a5b4a3fa184"
  },
  {
   "metadata": {
    "ExecuteTime": {
     "end_time": "2024-11-23T00:24:41.353011Z",
     "start_time": "2024-11-23T00:24:41.276080Z"
    }
   },
   "cell_type": "code",
   "outputs": [],
   "execution_count": 19,
   "source": [
    "#load the wikielec dataset\n",
    "'''\n",
    "The data is in the following format:\n",
    "For each block:\n",
    "    U <user_id>: tonode\n",
    "        V1 <article_id>: fromnode   sign\n",
    "        V2 <article_id>: fromnode   sign\n",
    "        V3 <article_id>: fromnode   sign\n",
    "        ...\n",
    "        Vn <article_id>: fromnode   sign\n",
    "'''\n",
    "\n",
    "file_path2 = \"wikiElec.ElecBs3.txt\"\n",
    "with open(file_path2, 'r', encoding = 'latin1') as file:\n",
    "    reader = csv.reader(file)\n",
    "    for _ in range(6):\n",
    "        next(reader)\n",
    "    data = []\n",
    "    for line in reader:\n",
    "        if line:\n",
    "            if line[0].startswith('U') or line[0].startswith('V'):\n",
    "                data.append(line[0])"
   ],
   "id": "8ca6f55eb777cc84"
  },
  {
   "metadata": {
    "ExecuteTime": {
     "end_time": "2024-11-23T00:26:40.932653Z",
     "start_time": "2024-11-23T00:26:40.795493Z"
    }
   },
   "cell_type": "code",
   "source": [
    "#extract the source nodes,target nodes and the signs from the data\n",
    "results = []\n",
    "current_u = None\n",
    "for line in data:\n",
    "    if line.startswith('U'):\n",
    "        current_u = line.split('\\t')[1]  # get target node\n",
    "    elif line.startswith('V') and current_u:\n",
    "        source_node = line.split('\\t')[2]  # get the source node\n",
    "        sign = line.split('\\t')[1]  # get the sign\n",
    "        results.append({'fromnode': source_node, 'tonode': current_u, 'sign': sign})\n",
    "\n",
    "\n",
    "df_wikielect = pd.DataFrame(results)\n"
   ],
   "id": "5cff18f1bee9cd8f",
   "outputs": [
    {
     "name": "stdout",
     "output_type": "stream",
     "text": [
      "  fromnode tonode sign\n",
      "0        3     30    1\n",
      "1       25     30   -1\n",
      "2        4     30    1\n",
      "3        5     30    1\n",
      "4        6     30    1\n"
     ]
    }
   ],
   "execution_count": 21
  },
  {
   "metadata": {
    "ExecuteTime": {
     "end_time": "2024-11-23T00:27:15.778360Z",
     "start_time": "2024-11-23T00:27:15.680759Z"
    }
   },
   "cell_type": "code",
   "source": [
    "# write the data to a csv file\n",
    "df_wikielect.to_csv('wikielect.csv', index=False)"
   ],
   "id": "c1236d3034a78d2d",
   "outputs": [],
   "execution_count": 22
  }
 ],
 "metadata": {
  "kernelspec": {
   "display_name": "Python 3",
   "language": "python",
   "name": "python3"
  },
  "language_info": {
   "codemirror_mode": {
    "name": "ipython",
    "version": 2
   },
   "file_extension": ".py",
   "mimetype": "text/x-python",
   "name": "python",
   "nbconvert_exporter": "python",
   "pygments_lexer": "ipython2",
   "version": "2.7.6"
  }
 },
 "nbformat": 4,
 "nbformat_minor": 5
}
